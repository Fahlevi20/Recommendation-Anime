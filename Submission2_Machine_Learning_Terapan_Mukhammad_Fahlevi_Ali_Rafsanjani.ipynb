{
  "nbformat": 4,
  "nbformat_minor": 0,
  "metadata": {
    "colab": {
      "name": "Submission2_Machine Learning Terapan_Mukhammad Fahlevi Ali Rafsanjani.ipynb",
      "provenance": []
    },
    "kernelspec": {
      "name": "python3",
      "display_name": "Python 3"
    },
    "language_info": {
      "name": "python"
    }
  },
  "cells": [
    {
      "cell_type": "markdown",
      "metadata": {
        "id": "3rDP-BPv3x66"
      },
      "source": [
        "# Import Library"
      ]
    },
    {
      "cell_type": "code",
      "metadata": {
        "id": "w471zTXXtXTt"
      },
      "source": [
        "# Basic Libraries\n",
        "import pandas as pd\n",
        "import numpy as np\n",
        "import warnings\n",
        "warnings.filterwarnings('ignore')\n",
        "\n",
        "\n",
        "# Get Dataset Liblary\n",
        "import os\n",
        "from os.path import join\n",
        "\n",
        "# Visualization Liblary\n",
        "import matplotlib.pyplot as plt\n",
        "import seaborn as sns\n",
        "import matplotlib as mpl\n",
        "import matplotlib.pylab as pylab\n",
        "import plotly.graph_objects as go\n",
        "\n",
        "# Preprocessing\n",
        "import re\n",
        "\n",
        "# Modeling\n",
        "from sklearn.feature_extraction.text import TfidfVectorizer\n",
        "from sklearn.metrics.pairwise import sigmoid_kernel"
      ],
      "execution_count": 6,
      "outputs": []
    },
    {
      "cell_type": "markdown",
      "metadata": {
        "id": "3aKj7vkm35XD"
      },
      "source": [
        "# Import Kaggle"
      ]
    },
    {
      "cell_type": "code",
      "metadata": {
        "colab": {
          "resources": {
            "http://localhost:8080/nbextensions/google.colab/files.js": {
              "data": "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",
              "ok": true,
              "headers": [
                [
                  "content-type",
                  "application/javascript"
                ]
              ],
              "status": 200,
              "status_text": ""
            }
          },
          "base_uri": "https://localhost:8080/",
          "height": 90
        },
        "id": "UVFCTemFw-b_",
        "outputId": "a66b1dba-bab1-41f5-e2d1-8869ea00ee72"
      },
      "source": [
        "from google.colab import files\n",
        "files.upload()"
      ],
      "execution_count": 2,
      "outputs": [
        {
          "output_type": "display_data",
          "data": {
            "text/html": [
              "\n",
              "     <input type=\"file\" id=\"files-ccc5944e-88cc-4aba-b445-a5168341901f\" name=\"files[]\" multiple disabled\n",
              "        style=\"border:none\" />\n",
              "     <output id=\"result-ccc5944e-88cc-4aba-b445-a5168341901f\">\n",
              "      Upload widget is only available when the cell has been executed in the\n",
              "      current browser session. Please rerun this cell to enable.\n",
              "      </output>\n",
              "      <script src=\"/nbextensions/google.colab/files.js\"></script> "
            ],
            "text/plain": [
              "<IPython.core.display.HTML object>"
            ]
          },
          "metadata": {}
        },
        {
          "output_type": "stream",
          "name": "stdout",
          "text": [
            "Saving kaggle.json to kaggle.json\n"
          ]
        },
        {
          "output_type": "execute_result",
          "data": {
            "text/plain": [
              "{'kaggle.json': b'{\"username\":\"fahlevi20\",\"key\":\"f9eba01a9c284de7e66f83e345bd561b\"}'}"
            ]
          },
          "metadata": {},
          "execution_count": 2
        }
      ]
    },
    {
      "cell_type": "code",
      "metadata": {
        "colab": {
          "base_uri": "https://localhost:8080/"
        },
        "id": "czr8DjUpw_Qk",
        "outputId": "2292d9ea-65bd-4fea-bb9e-4665df0acc91"
      },
      "source": [
        "!mkdir -p ~/.kaggle\n",
        "!cp kaggle.json ~/.kaggle/\n",
        "!chmod 600 ~/.kaggle/kaggle.json\n",
        "!ls ~/.kaggle"
      ],
      "execution_count": 3,
      "outputs": [
        {
          "output_type": "stream",
          "name": "stdout",
          "text": [
            "kaggle.json\n"
          ]
        }
      ]
    },
    {
      "cell_type": "markdown",
      "metadata": {
        "id": "U0UdgfR639ul"
      },
      "source": [
        "# Import Dataset"
      ]
    },
    {
      "cell_type": "code",
      "metadata": {
        "colab": {
          "base_uri": "https://localhost:8080/"
        },
        "id": "nCmXa99axTvP",
        "outputId": "f9c3f391-bf49-4dca-c749-a1f0a79c5cac"
      },
      "source": [
        "!kaggle datasets download -d CooperUnion/anime-recommendations-database"
      ],
      "execution_count": 4,
      "outputs": [
        {
          "output_type": "stream",
          "name": "stdout",
          "text": [
            "Downloading anime-recommendations-database.zip to /content\n",
            " 36% 9.00M/25.0M [00:00<00:00, 45.7MB/s]\n",
            "100% 25.0M/25.0M [00:00<00:00, 83.5MB/s]\n"
          ]
        }
      ]
    },
    {
      "cell_type": "code",
      "metadata": {
        "colab": {
          "base_uri": "https://localhost:8080/"
        },
        "id": "K03fy9d_xW23",
        "outputId": "c4f2deb8-24d6-495c-8089-f7f397e0bcf9"
      },
      "source": [
        "!unzip anime-recommendations-database.zip -d anime-recommendations-database"
      ],
      "execution_count": 5,
      "outputs": [
        {
          "output_type": "stream",
          "name": "stdout",
          "text": [
            "Archive:  anime-recommendations-database.zip\n",
            "  inflating: anime-recommendations-database/anime.csv  \n",
            "  inflating: anime-recommendations-database/rating.csv  \n"
          ]
        }
      ]
    },
    {
      "cell_type": "code",
      "metadata": {
        "id": "4jf8dFIBxZw_"
      },
      "source": [
        "df1 = pd.read_csv('/content/anime-recommendations-database/anime.csv')"
      ],
      "execution_count": 35,
      "outputs": []
    },
    {
      "cell_type": "markdown",
      "metadata": {
        "id": "iJHZRyox4Cwd"
      },
      "source": [
        "# Exploratory Data Analysis"
      ]
    },
    {
      "cell_type": "markdown",
      "metadata": {
        "id": "yDe9biZp4jtf"
      },
      "source": [
        "Disini saya melakukan Eksplorasi Data Analyis (EDA) dan Data Cleaning untuk memeriksa dataset yang akan saya training. Tujuannya adalah untuk melihat isi dari dataset tersebut apakah ada yang perlu dibuang atau tidak, apakah ada NaN, melihat tipe datanya, melihat jumlah kolom dan baris dan lainnya."
      ]
    },
    {
      "cell_type": "code",
      "metadata": {
        "colab": {
          "base_uri": "https://localhost:8080/"
        },
        "id": "28nyC1McxeO3",
        "outputId": "11d92711-4508-40dc-ca53-89b3ee27b533"
      },
      "source": [
        "print('===================EXPLORATORY DATA ANALYSIS=================================')\n",
        "long_string='========================================================================'\n",
        "def printByInformation(dataset, option=False):\n",
        "  if option:\n",
        "    pd.set_option('display.max_columns',None)\n",
        "    print(f'current rows:{dataset.shape[0]}')\n",
        "    print(f'current col:{dataset.shape[1]}')\n",
        "    print(long_string)\n",
        "    print('======================DATA CLEANING=======================================')\n",
        "    print(f'jumlah NaN {dataset.isnull().sum().sum()} dari NaN yg ditemukan')\n",
        "    print(long_string)\n",
        "    print(f'jumlah NaN tiap Column\\n{dataset.isnull().sum()}')\n",
        "    print(long_string)\n",
        "    print(f'Name Columns: {list(dataset.columns)}')\n",
        "    print(long_string)\n",
        "    print(f'{dataset.info()}')\n",
        "    print(long_string)\n",
        "    print(f'{dataset.describe()}')\n",
        "printByInformation(df1,True)\n",
        "  "
      ],
      "execution_count": 36,
      "outputs": [
        {
          "output_type": "stream",
          "name": "stdout",
          "text": [
            "===================EXPLORATORY DATA ANALYSIS=================================\n",
            "current rows:12294\n",
            "current col:7\n",
            "========================================================================\n",
            "======================DATA CLEANING=======================================\n",
            "jumlah NaN 317 dari NaN yg ditemukan\n",
            "========================================================================\n",
            "jumlah NaN tiap Column\n",
            "anime_id      0\n",
            "name          0\n",
            "genre        62\n",
            "type         25\n",
            "episodes      0\n",
            "rating      230\n",
            "members       0\n",
            "dtype: int64\n",
            "========================================================================\n",
            "Name Columns: ['anime_id', 'name', 'genre', 'type', 'episodes', 'rating', 'members']\n",
            "========================================================================\n",
            "<class 'pandas.core.frame.DataFrame'>\n",
            "RangeIndex: 12294 entries, 0 to 12293\n",
            "Data columns (total 7 columns):\n",
            " #   Column    Non-Null Count  Dtype  \n",
            "---  ------    --------------  -----  \n",
            " 0   anime_id  12294 non-null  int64  \n",
            " 1   name      12294 non-null  object \n",
            " 2   genre     12232 non-null  object \n",
            " 3   type      12269 non-null  object \n",
            " 4   episodes  12294 non-null  object \n",
            " 5   rating    12064 non-null  float64\n",
            " 6   members   12294 non-null  int64  \n",
            "dtypes: float64(1), int64(2), object(4)\n",
            "memory usage: 672.5+ KB\n",
            "None\n",
            "========================================================================\n",
            "           anime_id        rating       members\n",
            "count  12294.000000  12064.000000  1.229400e+04\n",
            "mean   14058.221653      6.473902  1.807134e+04\n",
            "std    11455.294701      1.026746  5.482068e+04\n",
            "min        1.000000      1.670000  5.000000e+00\n",
            "25%     3484.250000      5.880000  2.250000e+02\n",
            "50%    10260.500000      6.570000  1.550000e+03\n",
            "75%    24794.500000      7.180000  9.437000e+03\n",
            "max    34527.000000     10.000000  1.013917e+06\n"
          ]
        }
      ]
    },
    {
      "cell_type": "markdown",
      "metadata": {
        "id": "lznbW-ox4Wcd"
      },
      "source": [
        "Dataset yang dipakai adalah [Anime Recommendations Database](https://www.kaggle.com/hernan4444/anime-recommendation-database-2020?select=anime.csv)\n",
        "yang memiliki 320.000 users dan 16.000 anime dari [myanimelist.net](https://myanimelist.net/)\n",
        "\n",
        "anime data:\n",
        "* anime_id - kode unik untuk mengindentifikasi setiap anime\n",
        "* name - judul dari anime\n",
        "* genre - list genre yang dipisahkan tanda koma untuk setiap anime.\n",
        "* type - tipe dari anime\n",
        "* episodes - berapa banyak episode dari anime. (1 jika movie).\n",
        "* rating - rating rata-rata dari 10.\n",
        "* members - jumlah anggota komunitas yang ada di \"grup\" anime."
      ]
    },
    {
      "cell_type": "code",
      "metadata": {
        "colab": {
          "base_uri": "https://localhost:8080/",
          "height": 297
        },
        "id": "Em5OkZO348k6",
        "outputId": "f4e68081-d669-4bc3-f363-8cdf9d8d2b81"
      },
      "source": [
        "type_count = df1['type'].value_counts()\n",
        "\n",
        "sns.barplot(x=type_count.values,\n",
        "            y=type_count.index,\n",
        "            palette='Set1').set_title('Anime Types')\n",
        "\n",
        "plt.tight_layout()\n",
        "plt.show()"
      ],
      "execution_count": 37,
      "outputs": [
        {
          "output_type": "display_data",
          "data": {
            "image/png": "[encoded data removed]",
            "text/plain": [
              "<Figure size 432x288 with 1 Axes>"
            ]
          },
          "metadata": {
            "needs_background": "light"
          }
        }
      ]
    },
    {
      "cell_type": "markdown",
      "metadata": {
        "id": "9Re73Ecp98F7"
      },
      "source": [
        "Insight yang saya dapatkan disni adalah:\n",
        "- Anime Types \"TV\" yang paling banyak dibandingkan tipe lain\n",
        "- Anime Types \"Music\" yang paling sedikit dibandingkan tipe lain"
      ]
    },
    {
      "cell_type": "code",
      "metadata": {
        "id": "nwHBf4xazfJg"
      },
      "source": [
        "df1_data=df1.copy()"
      ],
      "execution_count": 38,
      "outputs": []
    },
    {
      "cell_type": "markdown",
      "metadata": {
        "id": "302IUg5O6O7m"
      },
      "source": [
        "Melakukan duplikasi data"
      ]
    },
    {
      "cell_type": "markdown",
      "metadata": {
        "id": "2Hac0cntyS63"
      },
      "source": [
        "# Data Cleaning"
      ]
    },
    {
      "cell_type": "code",
      "metadata": {
        "colab": {
          "base_uri": "https://localhost:8080/"
        },
        "id": "J1lvQLolzk17",
        "outputId": "a3bbe13d-8e76-4883-ff2e-9a06ec4eeb95"
      },
      "source": [
        "null_features = df1_data.columns[df1_data.isna().any()]\n",
        "df1_data[null_features].isna().sum()"
      ],
      "execution_count": 39,
      "outputs": [
        {
          "output_type": "execute_result",
          "data": {
            "text/plain": [
              "genre      62\n",
              "type       25\n",
              "rating    230\n",
              "dtype: int64"
            ]
          },
          "metadata": {},
          "execution_count": 39
        }
      ]
    },
    {
      "cell_type": "code",
      "metadata": {
        "colab": {
          "base_uri": "https://localhost:8080/"
        },
        "id": "IxDvO0TIyW0n",
        "outputId": "884ad396-3734-4c4e-b639-445da76b8fe5"
      },
      "source": [
        "df1_data.dropna(inplace=True)\n",
        "df1_data[null_features].isna().sum()"
      ],
      "execution_count": 40,
      "outputs": [
        {
          "output_type": "execute_result",
          "data": {
            "text/plain": [
              "genre     0\n",
              "type      0\n",
              "rating    0\n",
              "dtype: int64"
            ]
          },
          "metadata": {},
          "execution_count": 40
        }
      ]
    },
    {
      "cell_type": "markdown",
      "metadata": {
        "id": "AKxjhPrg5092"
      },
      "source": [
        "karena data memiliki NaN maka saya membuang data yang mempunyai NaN"
      ]
    },
    {
      "cell_type": "markdown",
      "metadata": {
        "id": "v6TZxuG86ZOA"
      },
      "source": [
        "# Text Cleaning\n",
        "\n",
        "selanjutnya saya melakukan text cleaning pada kolom **name** dengan cara menggunakan teknik Regex lalu saya membuat function yang bernama text cleaning dan mengaplikasikannya pada df1_data"
      ]
    },
    {
      "cell_type": "code",
      "metadata": {
        "colab": {
          "base_uri": "https://localhost:8080/"
        },
        "id": "CNR5GB9Izsb_",
        "outputId": "41bb62d8-e3a2-4b26-f5c1-c1edcd749d61"
      },
      "source": [
        "df1_data['name'].unique()[3:10]"
      ],
      "execution_count": 41,
      "outputs": [
        {
          "output_type": "execute_result",
          "data": {
            "text/plain": [
              "array(['Steins;Gate', 'Gintama&#039;',\n",
              "       'Haikyuu!!: Karasuno Koukou VS Shiratorizawa Gakuen Koukou',\n",
              "       'Hunter x Hunter (2011)', 'Ginga Eiyuu Densetsu',\n",
              "       'Gintama Movie: Kanketsu-hen - Yorozuya yo Eien Nare',\n",
              "       'Gintama&#039;: Enchousen'], dtype=object)"
            ]
          },
          "metadata": {},
          "execution_count": 41
        }
      ]
    },
    {
      "cell_type": "code",
      "metadata": {
        "id": "2W2nNSbLzxqo"
      },
      "source": [
        "def text_cleaning(text):\n",
        "    text = re.sub(r'&quot;', '', text)\n",
        "    text = re.sub(r'.hack//', '', text)\n",
        "    text = re.sub(r'&#039;', '', text)\n",
        "    text = re.sub(r'A&#039;s', '', text)\n",
        "    text = re.sub(r'I&#039;', 'I\\'', text)\n",
        "    text = re.sub(r'&amp;', 'and', text)\n",
        "    return text"
      ],
      "execution_count": 42,
      "outputs": []
    },
    {
      "cell_type": "markdown",
      "metadata": {
        "id": "7IxjgAZY7O8T"
      },
      "source": [
        "selanjutnya saya membuat function dengan nama text_cleaning dengan tujuannya yaitu untuk menghilangkan simbol atau text yang tidak diperlukan"
      ]
    },
    {
      "cell_type": "code",
      "metadata": {
        "id": "rGAYeXVZz1bI"
      },
      "source": [
        "df1_data['name'] = df1_data['name'].apply(text_cleaning)"
      ],
      "execution_count": 43,
      "outputs": []
    },
    {
      "cell_type": "code",
      "metadata": {
        "colab": {
          "base_uri": "https://localhost:8080/"
        },
        "id": "Ir-WG-rlz5S4",
        "outputId": "17d01529-65c1-4748-8800-6da30cfecccd"
      },
      "source": [
        "df1_data['name'].unique()[0:10]"
      ],
      "execution_count": 44,
      "outputs": [
        {
          "output_type": "execute_result",
          "data": {
            "text/plain": [
              "array(['Kimi no Na wa.', 'Fullmetal Alchemist: Brotherhood', 'Gintama°',\n",
              "       'Steins;Gate', 'Gintama',\n",
              "       'Haikyuu!!: Karasuno Koukou VS Shiratorizawa Gakuen Koukou',\n",
              "       'Hunter x Hunter (2011)', 'Ginga Eiyuu Densetsu',\n",
              "       'Gintama Movie: Kanketsu-hen - Yorozuya yo Eien Nare',\n",
              "       'Gintama: Enchousen'], dtype=object)"
            ]
          },
          "metadata": {},
          "execution_count": 44
        }
      ]
    },
    {
      "cell_type": "markdown",
      "metadata": {
        "id": "-X6zdVS-7iUW"
      },
      "source": [
        "# Modeling\n",
        "Selanjutnya ini adalah tahap modeling saya menggunakan teknik sistem rekomendasi content based filtering. \n",
        "\n",
        "Di sini saya akan menggunakannya genre, sehingga saya dapat merekomendasikan pengguna berdasarkan konten genre.\n",
        "\n",
        "- Disini saya menggunakan **TF-IDF Vectorizer** sebagai model yang digunakan untuk menemukan representasi fitur penting dari setiap genre anime."
      ]
    },
    {
      "cell_type": "code",
      "metadata": {
        "id": "oIqfTnDjz9kZ"
      },
      "source": [
        "# Inisialisasi TfidfVectorizer\n",
        "tfv = TfidfVectorizer(min_df=3,  max_features=None,\n",
        "                      strip_accents='unicode', analyzer='word',token_pattern=r'\\w{1,}',\n",
        "                      ngram_range=(1, 3),\n",
        "                      stop_words = 'english')"
      ],
      "execution_count": 45,
      "outputs": []
    },
    {
      "cell_type": "code",
      "metadata": {
        "id": "lSSyfHUC0CJx"
      },
      "source": [
        "genres_str = df1_data['genre'].str.split(',').astype(str)"
      ],
      "execution_count": 46,
      "outputs": []
    },
    {
      "cell_type": "code",
      "metadata": {
        "colab": {
          "base_uri": "https://localhost:8080/"
        },
        "id": "JemNuF0npyJG",
        "outputId": "c32b42f4-530e-43e1-97d3-198362441b7a"
      },
      "source": [
        "genres_str"
      ],
      "execution_count": 47,
      "outputs": [
        {
          "output_type": "execute_result",
          "data": {
            "text/plain": [
              "0        ['Drama', ' Romance', ' School', ' Supernatural']\n",
              "1        ['Action', ' Adventure', ' Drama', ' Fantasy',...\n",
              "2        ['Action', ' Comedy', ' Historical', ' Parody'...\n",
              "3                                  ['Sci-Fi', ' Thriller']\n",
              "4        ['Action', ' Comedy', ' Historical', ' Parody'...\n",
              "                               ...                        \n",
              "12289                                           ['Hentai']\n",
              "12290                                           ['Hentai']\n",
              "12291                                           ['Hentai']\n",
              "12292                                           ['Hentai']\n",
              "12293                                           ['Hentai']\n",
              "Name: genre, Length: 12017, dtype: object"
            ]
          },
          "metadata": {},
          "execution_count": 47
        }
      ]
    },
    {
      "cell_type": "code",
      "metadata": {
        "id": "IkXaEfav0EZv"
      },
      "source": [
        "tfv_matrix = tfv.fit_transform(genres_str)"
      ],
      "execution_count": 48,
      "outputs": []
    },
    {
      "cell_type": "code",
      "metadata": {
        "colab": {
          "base_uri": "https://localhost:8080/"
        },
        "id": "fHLkrmsmrfLP",
        "outputId": "1e3bccfb-8620-433f-afcf-0b1bc996b9a1"
      },
      "source": [
        "tfv_matrix"
      ],
      "execution_count": 49,
      "outputs": [
        {
          "output_type": "execute_result",
          "data": {
            "text/plain": [
              "<12017x1547 sparse matrix of type '<class 'numpy.float64'>'\n",
              "\twith 84086 stored elements in Compressed Sparse Row format>"
            ]
          },
          "metadata": {},
          "execution_count": 49
        }
      ]
    },
    {
      "cell_type": "markdown",
      "metadata": {
        "id": "TyQvH9fQ9G2E"
      },
      "source": [
        "## Sigmoid Kernel\n",
        "Selanjutnya kita perlu menetapkan 1 sebagai tanda anime yang direkomendasikan dan 0 sebagai anime yang tidak direkomendasikan. Dengan begitu saya menggunakan kernel sigmoid karena paling cocok untuk hasil binary"
      ]
    },
    {
      "cell_type": "code",
      "metadata": {
        "id": "-sKDy4eT0JEL"
      },
      "source": [
        "sig = sigmoid_kernel(tfv_matrix, tfv_matrix)"
      ],
      "execution_count": 50,
      "outputs": []
    },
    {
      "cell_type": "code",
      "metadata": {
        "colab": {
          "base_uri": "https://localhost:8080/"
        },
        "id": "elhnupnLqhiU",
        "outputId": "1246f58f-c63a-4b04-e6ef-49cd8a9127fd"
      },
      "source": [
        "sig"
      ],
      "execution_count": 51,
      "outputs": [
        {
          "output_type": "execute_result",
          "data": {
            "text/plain": [
              "array([[0.7618655 , 0.7616004 , 0.76159416, ..., 0.76159416, 0.76159416,\n",
              "        0.76159416],\n",
              "       [0.7616004 , 0.7618655 , 0.76160105, ..., 0.76159416, 0.76159416,\n",
              "        0.76159416],\n",
              "       [0.76159416, 0.76160105, 0.7618655 , ..., 0.76159416, 0.76159416,\n",
              "        0.76159416],\n",
              "       ...,\n",
              "       [0.76159416, 0.76159416, 0.76159416, ..., 0.7618655 , 0.7618655 ,\n",
              "        0.7618655 ],\n",
              "       [0.76159416, 0.76159416, 0.76159416, ..., 0.7618655 , 0.7618655 ,\n",
              "        0.7618655 ],\n",
              "       [0.76159416, 0.76159416, 0.76159416, ..., 0.7618655 , 0.7618655 ,\n",
              "        0.7618655 ]])"
            ]
          },
          "metadata": {},
          "execution_count": 51
        }
      ]
    },
    {
      "cell_type": "code",
      "metadata": {
        "id": "DbKDaFkC0OA6"
      },
      "source": [
        "indices = pd.Series(df1_data.index, index=df1_data['name']).drop_duplicates()"
      ],
      "execution_count": 52,
      "outputs": []
    },
    {
      "cell_type": "markdown",
      "metadata": {
        "id": "l7FGM0Su9R0o"
      },
      "source": [
        "## Membuat Recomendation Function\n",
        "Selanjutnya membuat fungsi untuk mendapatkan rekomendasi anime. dengan cara kerja mengubah skor kesamaan menjadi list menggunakan fungsi enumerate, lalu mengurutkan daftar dan memilih 10 skor teratas untuk direkomendasikan dan menghapus data yang dicari agar tidak dimunculkan dalam list rekomendasi"
      ]
    },
    {
      "cell_type": "code",
      "metadata": {
        "id": "SfFqGPOd0oo5"
      },
      "source": [
        "def get_recomendation(title, sig=sig):\n",
        "    # mendapatkan indeks yang sesuai dengan original_title\n",
        "    idx = indices[title]\n",
        "\n",
        "    # mendapatkan skor kesamaan berpasangan\n",
        "    sig_scores = list(enumerate(sig[idx]))\n",
        "\n",
        "    # urutkan film\n",
        "    sig_scores = sorted(sig_scores, key=lambda x: x[1], reverse=True)\n",
        "\n",
        "    # mendapatkan skor dari 10 film yang paling mirip\n",
        "    sig_scores = sig_scores[0:11]\n",
        "\n",
        "    # indeks film\n",
        "    anime_indices = [i[0] for i in sig_scores]\n",
        "\n",
        "    # Drop nama anime yang dicari agar tidak muncul dalam daftar rekomendasi\n",
        "    anime_indices = [t for t in anime_indices if t != idx]\n",
        "\n",
        "    # mengembalikan nilai 10 film paling mirip\n",
        "    return pd.DataFrame({'Anime name': df1_data['name'].iloc[anime_indices].values,\n",
        "                         'Genre': df1_data['genre'].iloc[anime_indices].values,\n",
        "                         'Rating': df1_data['rating'].iloc[anime_indices].values})"
      ],
      "execution_count": 53,
      "outputs": []
    },
    {
      "cell_type": "markdown",
      "metadata": {
        "id": "Mpr_Zbh29vlu"
      },
      "source": [
        "# Evaluation\n",
        "Untuk mengevaluasi model saya melakukan uji coba langsung dengan memanggil fungsi yang sudah saya buat dan memasukan judul anime yang pengguna suka sebelumnya."
      ]
    },
    {
      "cell_type": "code",
      "metadata": {
        "colab": {
          "base_uri": "https://localhost:8080/",
          "height": 374
        },
        "id": "2yhVrGC31MD4",
        "outputId": "8b5e8508-ac06-44dc-fd89-19f330e119ab"
      },
      "source": [
        "print(\"rekomendasi anime untuk One Piece\")\n",
        "get_recomendation('One Piece')"
      ],
      "execution_count": 54,
      "outputs": [
        {
          "output_type": "stream",
          "name": "stdout",
          "text": [
            "rekomendasi anime untuk One Piece\n"
          ]
        },
        {
          "output_type": "execute_result",
          "data": {
            "text/html": [
              "<div>\n",
              "<style scoped>\n",
              "    .dataframe tbody tr th:only-of-type {\n",
              "        vertical-align: middle;\n",
              "    }\n",
              "\n",
              "    .dataframe tbody tr th {\n",
              "        vertical-align: top;\n",
              "    }\n",
              "\n",
              "    .dataframe thead th {\n",
              "        text-align: right;\n",
              "    }\n",
              "</style>\n",
              "<table border=\"1\" class=\"dataframe\">\n",
              "  <thead>\n",
              "    <tr style=\"text-align: right;\">\n",
              "      <th></th>\n",
              "      <th>Anime name</th>\n",
              "      <th>Genre</th>\n",
              "      <th>Rating</th>\n",
              "    </tr>\n",
              "  </thead>\n",
              "  <tbody>\n",
              "    <tr>\n",
              "      <th>0</th>\n",
              "      <td>One Piece: Episode of Merry - Mou Hitori no Na...</td>\n",
              "      <td>Action, Adventure, Comedy, Drama, Fantasy, Sho...</td>\n",
              "      <td>8.29</td>\n",
              "    </tr>\n",
              "    <tr>\n",
              "      <th>1</th>\n",
              "      <td>One Piece: Episode of Nami - Koukaishi no Nami...</td>\n",
              "      <td>Action, Adventure, Comedy, Drama, Fantasy, Sho...</td>\n",
              "      <td>8.27</td>\n",
              "    </tr>\n",
              "    <tr>\n",
              "      <th>2</th>\n",
              "      <td>One Piece: Episode of Sabo - 3 Kyoudai no Kizu...</td>\n",
              "      <td>Action, Adventure, Comedy, Drama, Fantasy, Sho...</td>\n",
              "      <td>7.78</td>\n",
              "    </tr>\n",
              "    <tr>\n",
              "      <th>3</th>\n",
              "      <td>One Piece Film: Strong World</td>\n",
              "      <td>Action, Adventure, Comedy, Drama, Fantasy, Sho...</td>\n",
              "      <td>8.42</td>\n",
              "    </tr>\n",
              "    <tr>\n",
              "      <th>4</th>\n",
              "      <td>One Piece Film: Z</td>\n",
              "      <td>Action, Adventure, Comedy, Drama, Fantasy, Sho...</td>\n",
              "      <td>8.39</td>\n",
              "    </tr>\n",
              "    <tr>\n",
              "      <th>5</th>\n",
              "      <td>One Piece Film: Gold</td>\n",
              "      <td>Action, Adventure, Comedy, Drama, Fantasy, Sho...</td>\n",
              "      <td>8.32</td>\n",
              "    </tr>\n",
              "    <tr>\n",
              "      <th>6</th>\n",
              "      <td>One Piece: Heart of Gold</td>\n",
              "      <td>Action, Adventure, Comedy, Drama, Fantasy, Sho...</td>\n",
              "      <td>7.75</td>\n",
              "    </tr>\n",
              "    <tr>\n",
              "      <th>7</th>\n",
              "      <td>Digimon Frontier</td>\n",
              "      <td>Action, Adventure, Comedy, Drama, Fantasy, Sho...</td>\n",
              "      <td>7.25</td>\n",
              "    </tr>\n",
              "    <tr>\n",
              "      <th>8</th>\n",
              "      <td>Digimon Tamers</td>\n",
              "      <td>Adventure, Comedy, Drama, Fantasy, Shounen</td>\n",
              "      <td>7.65</td>\n",
              "    </tr>\n",
              "    <tr>\n",
              "      <th>9</th>\n",
              "      <td>Digimon Savers</td>\n",
              "      <td>Adventure, Comedy, Drama, Fantasy, Shounen</td>\n",
              "      <td>7.10</td>\n",
              "    </tr>\n",
              "  </tbody>\n",
              "</table>\n",
              "</div>"
            ],
            "text/plain": [
              "                                          Anime name  \\\n",
              "0  One Piece: Episode of Merry - Mou Hitori no Na...   \n",
              "1  One Piece: Episode of Nami - Koukaishi no Nami...   \n",
              "2  One Piece: Episode of Sabo - 3 Kyoudai no Kizu...   \n",
              "3                       One Piece Film: Strong World   \n",
              "4                                  One Piece Film: Z   \n",
              "5                               One Piece Film: Gold   \n",
              "6                           One Piece: Heart of Gold   \n",
              "7                                   Digimon Frontier   \n",
              "8                                     Digimon Tamers   \n",
              "9                                     Digimon Savers   \n",
              "\n",
              "                                               Genre  Rating  \n",
              "0  Action, Adventure, Comedy, Drama, Fantasy, Sho...    8.29  \n",
              "1  Action, Adventure, Comedy, Drama, Fantasy, Sho...    8.27  \n",
              "2  Action, Adventure, Comedy, Drama, Fantasy, Sho...    7.78  \n",
              "3  Action, Adventure, Comedy, Drama, Fantasy, Sho...    8.42  \n",
              "4  Action, Adventure, Comedy, Drama, Fantasy, Sho...    8.39  \n",
              "5  Action, Adventure, Comedy, Drama, Fantasy, Sho...    8.32  \n",
              "6  Action, Adventure, Comedy, Drama, Fantasy, Sho...    7.75  \n",
              "7  Action, Adventure, Comedy, Drama, Fantasy, Sho...    7.25  \n",
              "8         Adventure, Comedy, Drama, Fantasy, Shounen    7.65  \n",
              "9         Adventure, Comedy, Drama, Fantasy, Shounen    7.10  "
            ]
          },
          "metadata": {},
          "execution_count": 54
        }
      ]
    },
    {
      "cell_type": "code",
      "metadata": {
        "id": "Of2od49J1O3A"
      },
      "source": [
        "feature_recomendation = get_recomendation('One Piece')"
      ],
      "execution_count": 55,
      "outputs": []
    },
    {
      "cell_type": "code",
      "metadata": {
        "id": "ETrBU0PO1Vc3"
      },
      "source": [
        "feature = df1_data[df1_data['name'] == 'One Piece']"
      ],
      "execution_count": 56,
      "outputs": []
    },
    {
      "cell_type": "code",
      "metadata": {
        "colab": {
          "base_uri": "https://localhost:8080/",
          "height": 80
        },
        "id": "rq5Jgkip1atw",
        "outputId": "8c67ba32-4f21-433a-de36-e9c4a838fab2"
      },
      "source": [
        "feature"
      ],
      "execution_count": 57,
      "outputs": [
        {
          "output_type": "execute_result",
          "data": {
            "text/html": [
              "<div>\n",
              "<style scoped>\n",
              "    .dataframe tbody tr th:only-of-type {\n",
              "        vertical-align: middle;\n",
              "    }\n",
              "\n",
              "    .dataframe tbody tr th {\n",
              "        vertical-align: top;\n",
              "    }\n",
              "\n",
              "    .dataframe thead th {\n",
              "        text-align: right;\n",
              "    }\n",
              "</style>\n",
              "<table border=\"1\" class=\"dataframe\">\n",
              "  <thead>\n",
              "    <tr style=\"text-align: right;\">\n",
              "      <th></th>\n",
              "      <th>anime_id</th>\n",
              "      <th>name</th>\n",
              "      <th>genre</th>\n",
              "      <th>type</th>\n",
              "      <th>episodes</th>\n",
              "      <th>rating</th>\n",
              "      <th>members</th>\n",
              "    </tr>\n",
              "  </thead>\n",
              "  <tbody>\n",
              "    <tr>\n",
              "      <th>74</th>\n",
              "      <td>21</td>\n",
              "      <td>One Piece</td>\n",
              "      <td>Action, Adventure, Comedy, Drama, Fantasy, Sho...</td>\n",
              "      <td>TV</td>\n",
              "      <td>Unknown</td>\n",
              "      <td>8.58</td>\n",
              "      <td>504862</td>\n",
              "    </tr>\n",
              "  </tbody>\n",
              "</table>\n",
              "</div>"
            ],
            "text/plain": [
              "    anime_id       name                                              genre  \\\n",
              "74        21  One Piece  Action, Adventure, Comedy, Drama, Fantasy, Sho...   \n",
              "\n",
              "   type episodes  rating  members  \n",
              "74   TV  Unknown    8.58   504862  "
            ]
          },
          "metadata": {},
          "execution_count": 57
        }
      ]
    },
    {
      "cell_type": "code",
      "metadata": {
        "id": "KSaGiTrR1b4P"
      },
      "source": [
        "get_feature_genre=[]\n",
        "for i in range(len(feature.genre)):\n",
        "    for x in feature.genre.str.split(','):\n",
        "        if x not in get_feature_genre:\n",
        "            get_feature_genre.append(x)"
      ],
      "execution_count": 58,
      "outputs": []
    },
    {
      "cell_type": "code",
      "metadata": {
        "colab": {
          "base_uri": "https://localhost:8080/"
        },
        "id": "SRgEpE-G1lU6",
        "outputId": "fda666ff-1fc0-4128-aba6-8fd12531f663"
      },
      "source": [
        "get_feature_genre"
      ],
      "execution_count": 59,
      "outputs": [
        {
          "output_type": "execute_result",
          "data": {
            "text/plain": [
              "[['Action',\n",
              "  ' Adventure',\n",
              "  ' Comedy',\n",
              "  ' Drama',\n",
              "  ' Fantasy',\n",
              "  ' Shounen',\n",
              "  ' Super Power']]"
            ]
          },
          "metadata": {},
          "execution_count": 59
        }
      ]
    },
    {
      "cell_type": "code",
      "metadata": {
        "colab": {
          "base_uri": "https://localhost:8080/",
          "height": 357
        },
        "id": "g5c6h5Q01p-3",
        "outputId": "80b97610-1fae-4694-e45f-17e91c63ff6a"
      },
      "source": [
        "feature_recomendation"
      ],
      "execution_count": 60,
      "outputs": [
        {
          "output_type": "execute_result",
          "data": {
            "text/html": [
              "<div>\n",
              "<style scoped>\n",
              "    .dataframe tbody tr th:only-of-type {\n",
              "        vertical-align: middle;\n",
              "    }\n",
              "\n",
              "    .dataframe tbody tr th {\n",
              "        vertical-align: top;\n",
              "    }\n",
              "\n",
              "    .dataframe thead th {\n",
              "        text-align: right;\n",
              "    }\n",
              "</style>\n",
              "<table border=\"1\" class=\"dataframe\">\n",
              "  <thead>\n",
              "    <tr style=\"text-align: right;\">\n",
              "      <th></th>\n",
              "      <th>Anime name</th>\n",
              "      <th>Genre</th>\n",
              "      <th>Rating</th>\n",
              "    </tr>\n",
              "  </thead>\n",
              "  <tbody>\n",
              "    <tr>\n",
              "      <th>0</th>\n",
              "      <td>One Piece: Episode of Merry - Mou Hitori no Na...</td>\n",
              "      <td>Action, Adventure, Comedy, Drama, Fantasy, Sho...</td>\n",
              "      <td>8.29</td>\n",
              "    </tr>\n",
              "    <tr>\n",
              "      <th>1</th>\n",
              "      <td>One Piece: Episode of Nami - Koukaishi no Nami...</td>\n",
              "      <td>Action, Adventure, Comedy, Drama, Fantasy, Sho...</td>\n",
              "      <td>8.27</td>\n",
              "    </tr>\n",
              "    <tr>\n",
              "      <th>2</th>\n",
              "      <td>One Piece: Episode of Sabo - 3 Kyoudai no Kizu...</td>\n",
              "      <td>Action, Adventure, Comedy, Drama, Fantasy, Sho...</td>\n",
              "      <td>7.78</td>\n",
              "    </tr>\n",
              "    <tr>\n",
              "      <th>3</th>\n",
              "      <td>One Piece Film: Strong World</td>\n",
              "      <td>Action, Adventure, Comedy, Drama, Fantasy, Sho...</td>\n",
              "      <td>8.42</td>\n",
              "    </tr>\n",
              "    <tr>\n",
              "      <th>4</th>\n",
              "      <td>One Piece Film: Z</td>\n",
              "      <td>Action, Adventure, Comedy, Drama, Fantasy, Sho...</td>\n",
              "      <td>8.39</td>\n",
              "    </tr>\n",
              "    <tr>\n",
              "      <th>5</th>\n",
              "      <td>One Piece Film: Gold</td>\n",
              "      <td>Action, Adventure, Comedy, Drama, Fantasy, Sho...</td>\n",
              "      <td>8.32</td>\n",
              "    </tr>\n",
              "    <tr>\n",
              "      <th>6</th>\n",
              "      <td>One Piece: Heart of Gold</td>\n",
              "      <td>Action, Adventure, Comedy, Drama, Fantasy, Sho...</td>\n",
              "      <td>7.75</td>\n",
              "    </tr>\n",
              "    <tr>\n",
              "      <th>7</th>\n",
              "      <td>Digimon Frontier</td>\n",
              "      <td>Action, Adventure, Comedy, Drama, Fantasy, Sho...</td>\n",
              "      <td>7.25</td>\n",
              "    </tr>\n",
              "    <tr>\n",
              "      <th>8</th>\n",
              "      <td>Digimon Tamers</td>\n",
              "      <td>Adventure, Comedy, Drama, Fantasy, Shounen</td>\n",
              "      <td>7.65</td>\n",
              "    </tr>\n",
              "    <tr>\n",
              "      <th>9</th>\n",
              "      <td>Digimon Savers</td>\n",
              "      <td>Adventure, Comedy, Drama, Fantasy, Shounen</td>\n",
              "      <td>7.10</td>\n",
              "    </tr>\n",
              "  </tbody>\n",
              "</table>\n",
              "</div>"
            ],
            "text/plain": [
              "                                          Anime name  \\\n",
              "0  One Piece: Episode of Merry - Mou Hitori no Na...   \n",
              "1  One Piece: Episode of Nami - Koukaishi no Nami...   \n",
              "2  One Piece: Episode of Sabo - 3 Kyoudai no Kizu...   \n",
              "3                       One Piece Film: Strong World   \n",
              "4                                  One Piece Film: Z   \n",
              "5                               One Piece Film: Gold   \n",
              "6                           One Piece: Heart of Gold   \n",
              "7                                   Digimon Frontier   \n",
              "8                                     Digimon Tamers   \n",
              "9                                     Digimon Savers   \n",
              "\n",
              "                                               Genre  Rating  \n",
              "0  Action, Adventure, Comedy, Drama, Fantasy, Sho...    8.29  \n",
              "1  Action, Adventure, Comedy, Drama, Fantasy, Sho...    8.27  \n",
              "2  Action, Adventure, Comedy, Drama, Fantasy, Sho...    7.78  \n",
              "3  Action, Adventure, Comedy, Drama, Fantasy, Sho...    8.42  \n",
              "4  Action, Adventure, Comedy, Drama, Fantasy, Sho...    8.39  \n",
              "5  Action, Adventure, Comedy, Drama, Fantasy, Sho...    8.32  \n",
              "6  Action, Adventure, Comedy, Drama, Fantasy, Sho...    7.75  \n",
              "7  Action, Adventure, Comedy, Drama, Fantasy, Sho...    7.25  \n",
              "8         Adventure, Comedy, Drama, Fantasy, Shounen    7.65  \n",
              "9         Adventure, Comedy, Drama, Fantasy, Shounen    7.10  "
            ]
          },
          "metadata": {},
          "execution_count": 60
        }
      ]
    },
    {
      "cell_type": "code",
      "metadata": {
        "colab": {
          "base_uri": "https://localhost:8080/"
        },
        "id": "Oo-ZpAhf1tdD",
        "outputId": "3da83423-cfd6-4b68-b305-9d20746c0fbf"
      },
      "source": [
        "for i in get_feature_genre[0]:\n",
        "  print(i + \": \" + str((\n",
        "      (feature_recomendation['Genre'].str.contains(i).count()/feature_recomendation['Genre'].count())*100)\n",
        "  ))"
      ],
      "execution_count": 61,
      "outputs": [
        {
          "output_type": "stream",
          "name": "stdout",
          "text": [
            "Action: 100.0\n",
            " Adventure: 100.0\n",
            " Comedy: 100.0\n",
            " Drama: 100.0\n",
            " Fantasy: 100.0\n",
            " Shounen: 100.0\n",
            " Super Power: 100.0\n"
          ]
        }
      ]
    },
    {
      "cell_type": "markdown",
      "metadata": {
        "id": "XYg2m3dX-4R2"
      },
      "source": [
        "disini dapat kita lihat bahwa sistem rekomendasi memberitahu bahwa genre terebut 100.0 atau 100% akurat benar"
      ]
    },
    {
      "cell_type": "code",
      "metadata": {
        "id": "gIh8LBO_5UBQ"
      },
      "source": [
        ""
      ],
      "execution_count": null,
      "outputs": []
    }
  ]
}